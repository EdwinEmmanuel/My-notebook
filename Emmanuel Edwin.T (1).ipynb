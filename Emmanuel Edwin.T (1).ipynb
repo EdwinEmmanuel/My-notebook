{
 "cells": [
  {
   "cell_type": "markdown",
   "id": "6963b825-70cc-4d7c-9ec0-483cc2af3436",
   "metadata": {},
   "source": [
    "#### Add your code below following the instructions given in the course"
   ]
  },
  {
   "cell_type": "markdown",
   "id": "0b773610-9c92-401b-ba90-d92ce9ddd5bd",
   "metadata": {
    "tags": []
   },
   "source": [
    "# Data Science Tools and Ecosystem"
   ]
  },
  {
   "cell_type": "markdown",
   "id": "a3d7689e-06cb-46b1-8c5c-76844a4cd769",
   "metadata": {
    "tags": []
   },
   "source": [
    "In this notebook, Data Science Tools and Ecosystem are summarized."
   ]
  },
  {
   "cell_type": "markdown",
   "id": "1e3f07ca-d668-4ef6-a37f-b58639c0bd04",
   "metadata": {},
   "source": [
    "Some of the popular languages that Data Scientists use are:\n",
    "1. Python\n",
    "2. R(Programming Language)\n",
    "3. Scala"
   ]
  },
  {
   "cell_type": "markdown",
   "id": "922d3310-4273-4c7d-9bb8-08b6a2237415",
   "metadata": {},
   "source": [
    "Some of the commonly used libraries used by Data Scientists include:\n",
    "1. ggplot\n",
    "2. dplyr\n",
    "3. stringr"
   ]
  },
  {
   "cell_type": "markdown",
   "id": "007d0d4b-3cd7-4433-bf77-33e833f7d429",
   "metadata": {
    "tags": []
   },
   "source": [
    "## Data Science Tools\n",
    "* [RStudio](#RStudio)\n",
    "* [Apache Spark](#ApacheSpark)\n",
    "* [Tensorflow](#Tensorflow)"
   ]
  },
  {
   "cell_type": "markdown",
   "id": "b793e449-51ad-4a3c-9cdc-f203d2698461",
   "metadata": {},
   "source": [
    "### Below are a few examples of evaluating arithmetic expressions in Python"
   ]
  },
  {
   "cell_type": "code",
   "execution_count": 4,
   "id": "474448bf-1fec-49ac-a21f-b9e8f9309bb0",
   "metadata": {
    "tags": []
   },
   "outputs": [
    {
     "data": {
      "text/plain": [
       "17"
      ]
     },
     "execution_count": 4,
     "metadata": {},
     "output_type": "execute_result"
    }
   ],
   "source": [
    "#This a simple arithmetic expression to mutiply then add integers\n",
    "(3*4)+5"
   ]
  },
  {
   "cell_type": "code",
   "execution_count": 5,
   "id": "d9d6fbf7-a443-453c-9108-71a0d16b2b06",
   "metadata": {
    "tags": []
   },
   "outputs": [],
   "source": [
    "# This will convert 200 minutes to hours by diving by 60.\n",
    "minutes = 200\n",
    "hours = minutes / 60"
   ]
  },
  {
   "cell_type": "markdown",
   "id": "a3b7c26f-5c41-41f5-83aa-ad14d0b1f6a4",
   "metadata": {
    "tags": []
   },
   "source": [
    "# OBJECTIVES:"
   ]
  },
  {
   "cell_type": "markdown",
   "id": "6b7dd194-34d8-4041-a21c-58289da76081",
   "metadata": {},
   "source": [
    "* [RLanguage](#RLanguage)\n",
    "* [Python](#Python)\n",
    "* [Java](#Java)"
   ]
  },
  {
   "cell_type": "markdown",
   "id": "f16d580e-7d98-43cf-810a-e14a16375132",
   "metadata": {},
   "source": [
    "## Author:\n",
    "Emmanuel Edwin.T"
   ]
  },
  {
   "cell_type": "code",
   "execution_count": null,
   "id": "0400e91b-86e8-4368-877f-2ae45662df4c",
   "metadata": {},
   "outputs": [],
   "source": []
  }
 ],
 "metadata": {
  "kernelspec": {
   "display_name": "Python",
   "language": "python",
   "name": "conda-env-python-py"
  },
  "language_info": {
   "codemirror_mode": {
    "name": "ipython",
    "version": 3
   },
   "file_extension": ".py",
   "mimetype": "text/x-python",
   "name": "python",
   "nbconvert_exporter": "python",
   "pygments_lexer": "ipython3",
   "version": "3.7.12"
  }
 },
 "nbformat": 4,
 "nbformat_minor": 5
}
